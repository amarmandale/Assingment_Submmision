{
 "cells": [
  {
   "cell_type": "markdown",
   "id": "54e37c7b-039f-476c-9f0c-57ce6458adb7",
   "metadata": {},
   "source": [
    "Q1. Create one variable containing following type of data:\n",
    "(i) string\n",
    "(ii) list\n",
    "(iii) float\n",
    "(iv) tuple\n",
    "answer:-"
   ]
  },
  {
   "cell_type": "code",
   "execution_count": 1,
   "id": "958dc952-6d29-4ad7-82ce-997a4996e38e",
   "metadata": {},
   "outputs": [
    {
     "data": {
      "text/plain": [
       "str"
      ]
     },
     "execution_count": 1,
     "metadata": {},
     "output_type": "execute_result"
    }
   ],
   "source": [
    "# (i) \n",
    "s=\"amar\"\n",
    "type(s)"
   ]
  },
  {
   "cell_type": "code",
   "execution_count": 2,
   "id": "54aaebac-290b-4eae-9fd6-cf0aee1a125a",
   "metadata": {},
   "outputs": [
    {
     "data": {
      "text/plain": [
       "list"
      ]
     },
     "execution_count": 2,
     "metadata": {},
     "output_type": "execute_result"
    }
   ],
   "source": [
    "#(ii)\n",
    "l=[1,3,4,'amar',True,2+5j,1.2,[1,3,4,5],{1:\"amar\",2:\"pwskills\"}]\n",
    "type(l)"
   ]
  },
  {
   "cell_type": "code",
   "execution_count": 3,
   "id": "8dc763d5-0f5e-4a91-9249-6a8140757387",
   "metadata": {},
   "outputs": [
    {
     "data": {
      "text/plain": [
       "float"
      ]
     },
     "execution_count": 3,
     "metadata": {},
     "output_type": "execute_result"
    }
   ],
   "source": [
    "#(ii)\n",
    "f=1.2 \n",
    "type(f)"
   ]
  },
  {
   "cell_type": "code",
   "execution_count": 4,
   "id": "242f0c76-2dbb-4f9a-8dbd-74fc699b577b",
   "metadata": {},
   "outputs": [
    {
     "data": {
      "text/plain": [
       "tuple"
      ]
     },
     "execution_count": 4,
     "metadata": {},
     "output_type": "execute_result"
    }
   ],
   "source": [
    "#(iv)\n",
    "t=(\"amar\",[1,2,3],4+2j,False,{\"name\":\"amar\"})\n",
    "type(t)"
   ]
  },
  {
   "cell_type": "markdown",
   "id": "167cff16-75db-4998-bd83-eea9b604d124",
   "metadata": {},
   "source": [
    "Q2. Given are some following variables containing data:\n",
    "(i) var1 = ‘ ‘\n",
    "(ii) var2 = ‘[ DS , ML , Python]’\n",
    "(iii) var3 = [ ‘DS’ , ’ML’ , ‘Python’ ]\n",
    "(iv) var4 = 1.\n",
    "What will be the data type of the above given variable."
   ]
  },
  {
   "cell_type": "code",
   "execution_count": 5,
   "id": "aac940de-52ec-449a-be8c-0c8790b81ae0",
   "metadata": {},
   "outputs": [
    {
     "data": {
      "text/plain": [
       "str"
      ]
     },
     "execution_count": 5,
     "metadata": {},
     "output_type": "execute_result"
    }
   ],
   "source": [
    "#(i)\n",
    "var1=''\n",
    "type(var1)"
   ]
  },
  {
   "cell_type": "code",
   "execution_count": 6,
   "id": "445e3cec-a735-49ed-860c-ec57bd1b0b9d",
   "metadata": {},
   "outputs": [
    {
     "data": {
      "text/plain": [
       "str"
      ]
     },
     "execution_count": 6,
     "metadata": {},
     "output_type": "execute_result"
    }
   ],
   "source": [
    "#(ii)\n",
    "var2 = '[ DS , ML , Python]'\n",
    "type(var2)\n"
   ]
  },
  {
   "cell_type": "code",
   "execution_count": 7,
   "id": "8e1b6e23-05e3-4f09-ab89-72576787d474",
   "metadata": {},
   "outputs": [
    {
     "data": {
      "text/plain": [
       "list"
      ]
     },
     "execution_count": 7,
     "metadata": {},
     "output_type": "execute_result"
    }
   ],
   "source": [
    "#(iii\n",
    "var3 = [ 'DS' ,'ML' , 'Python' ]\n",
    "type(var3)"
   ]
  },
  {
   "cell_type": "code",
   "execution_count": 8,
   "id": "4101c86c-4473-4c36-be5e-c8436a6591f5",
   "metadata": {},
   "outputs": [
    {
     "data": {
      "text/plain": [
       "float"
      ]
     },
     "execution_count": 8,
     "metadata": {},
     "output_type": "execute_result"
    }
   ],
   "source": [
    "#(iv)\n",
    "var4=1.\n",
    "type(var4)"
   ]
  },
  {
   "cell_type": "markdown",
   "id": "8ad9a02e-647b-4e1d-8a15-c41e3cd9812e",
   "metadata": {},
   "source": [
    "Q3. Explain the use of the following operators using an example:\n",
    "(i) /\n",
    "(ii) %\n",
    "(iii) //\n",
    "(iv) **"
   ]
  },
  {
   "cell_type": "code",
   "execution_count": 9,
   "id": "0c5ab493-c051-4d17-bc11-d3fe1862a428",
   "metadata": {},
   "outputs": [
    {
     "data": {
      "text/plain": [
       "3.75"
      ]
     },
     "execution_count": 9,
     "metadata": {},
     "output_type": "execute_result"
    }
   ],
   "source": [
    "'''(i)\n",
    " / = it is arithmatic operator , \n",
    " by using this operater  we can division or dividing any number\n",
    " example '''\n",
    "15/4 "
   ]
  },
  {
   "cell_type": "code",
   "execution_count": 10,
   "id": "7c6ef5e9-4098-4a17-8380-1e75fda64c3b",
   "metadata": {},
   "outputs": [
    {
     "data": {
      "text/plain": [
       "3"
      ]
     },
     "execution_count": 10,
     "metadata": {},
     "output_type": "execute_result"
    }
   ],
   "source": [
    "'''(ii)\n",
    " % = it is arithmatic operator an aslo called modulus operator , \n",
    " its gives the remainder of any division of number\n",
    " example '''\n",
    "23%10"
   ]
  },
  {
   "cell_type": "code",
   "execution_count": 11,
   "id": "b771ac20-26e0-479a-99f1-d22a732819d7",
   "metadata": {},
   "outputs": [
    {
     "data": {
      "text/plain": [
       "4"
      ]
     },
     "execution_count": 11,
     "metadata": {},
     "output_type": "execute_result"
    }
   ],
   "source": [
    "'''(iii)\n",
    " // = it is arithmatic operator , \n",
    " it is gives answer in Quotient (flor) of  dividing any number\n",
    " example '''\n",
    "24//5"
   ]
  },
  {
   "cell_type": "code",
   "execution_count": 12,
   "id": "03d10e8d-cbd1-4f6e-b216-667e0271b406",
   "metadata": {},
   "outputs": [
    {
     "data": {
      "text/plain": [
       "7"
      ]
     },
     "execution_count": 12,
     "metadata": {},
     "output_type": "execute_result"
    }
   ],
   "source": [
    "22//3"
   ]
  },
  {
   "cell_type": "code",
   "execution_count": 13,
   "id": "98c27cb4-de65-4fe8-aba8-fd3cd5537939",
   "metadata": {},
   "outputs": [
    {
     "data": {
      "text/plain": [
       "9"
      ]
     },
     "execution_count": 13,
     "metadata": {},
     "output_type": "execute_result"
    }
   ],
   "source": [
    "'''(iv)\n",
    " ** = it is arithmatic operator and aslo called exponetial operater , \n",
    " by using this operater we can easily generate power of any number\n",
    " example '''\n",
    "3**2 "
   ]
  },
  {
   "cell_type": "code",
   "execution_count": 14,
   "id": "3cb2d414-51ce-423e-9d27-c5881ccbb977",
   "metadata": {},
   "outputs": [
    {
     "data": {
      "text/plain": [
       "67108864"
      ]
     },
     "execution_count": 14,
     "metadata": {},
     "output_type": "execute_result"
    }
   ],
   "source": [
    "2**26"
   ]
  },
  {
   "cell_type": "raw",
   "id": "798fa1ef-e1b4-458b-9222-e1a63e8783cb",
   "metadata": {},
   "source": [
    "Q4. Create a list of length 10 of your choice containing multiple types of data. Using for loop print the\n",
    "element and its data type."
   ]
  },
  {
   "cell_type": "code",
   "execution_count": 15,
   "id": "eef7ce19-1b68-4a66-98b4-495171fd8c93",
   "metadata": {},
   "outputs": [],
   "source": [
    "l=[1,1.2,True,2+8j,\"amar\",[1,2,3],(1,2,3),{1:\"amar\"},3,5]"
   ]
  },
  {
   "cell_type": "code",
   "execution_count": 16,
   "id": "10dbee07-8ba0-4da0-a931-8a3695ed089f",
   "metadata": {},
   "outputs": [
    {
     "data": {
      "text/plain": [
       "10"
      ]
     },
     "execution_count": 16,
     "metadata": {},
     "output_type": "execute_result"
    }
   ],
   "source": [
    "len(l)"
   ]
  },
  {
   "cell_type": "code",
   "execution_count": 17,
   "id": "074b5b67-d757-4d97-9fec-f5684fa2b722",
   "metadata": {},
   "outputs": [
    {
     "name": "stdout",
     "output_type": "stream",
     "text": [
      "<class 'int'>\n",
      "<class 'float'>\n",
      "<class 'bool'>\n",
      "<class 'complex'>\n",
      "<class 'str'>\n",
      "<class 'list'>\n",
      "<class 'tuple'>\n",
      "<class 'dict'>\n",
      "<class 'int'>\n",
      "<class 'int'>\n"
     ]
    }
   ],
   "source": [
    "for i in l:\n",
    "    print(type(i))"
   ]
  },
  {
   "cell_type": "markdown",
   "id": "74b62511-2d0c-4f67-ae8d-7705b4d973a9",
   "metadata": {},
   "source": [
    "Q5. Using a while loop, verify if the number A is purely divisible by number B and if so then how many\n",
    "times it can be divisible."
   ]
  },
  {
   "cell_type": "code",
   "execution_count": 19,
   "id": "fcc239ab-adba-44fb-86d7-ef9b1e738205",
   "metadata": {},
   "outputs": [
    {
     "name": "stdin",
     "output_type": "stream",
     "text": [
      " 15\n",
      " 3\n"
     ]
    },
    {
     "name": "stdout",
     "output_type": "stream",
     "text": [
      "5.0\n",
      "A is purely divisible by B\n"
     ]
    }
   ],
   "source": [
    "A=int(input())\n",
    "B=int(input())\n",
    "while A>B:\n",
    "    if A%B==0:\n",
    "        print(A/B)\n",
    "        print(\"A is purely divisible by B\")\n",
    "        break\n",
    "    else:\n",
    "        print(\"A is not purely divisible by number B\")\n",
    "        break"
   ]
  },
  {
   "cell_type": "code",
   "execution_count": 21,
   "id": "736caa42-ea7c-40e4-8c6b-677d7facfd57",
   "metadata": {},
   "outputs": [
    {
     "name": "stdin",
     "output_type": "stream",
     "text": [
      " 123\n",
      " 2\n"
     ]
    },
    {
     "name": "stdout",
     "output_type": "stream",
     "text": [
      "A is not purely divisible by number B\n"
     ]
    }
   ],
   "source": [
    "A=int(input())\n",
    "B=int(input())\n",
    "while A>B:\n",
    "    if A%B==0:\n",
    "        print(A/B)\n",
    "        print(\"A is purely divisible by B\")\n",
    "        break\n",
    "    else:\n",
    "        print(\"A is not purely divisible by number B\")\n",
    "        break"
   ]
  },
  {
   "cell_type": "markdown",
   "id": "34492279-32f7-4d74-9110-a14a1032ec76",
   "metadata": {},
   "source": [
    "Q6. Create a list containing 25 int type data. Using for loop and if-else condition print if the element is\n",
    "divisible by 3 or not."
   ]
  },
  {
   "cell_type": "code",
   "execution_count": 29,
   "id": "3a89c76e-b7e4-4fe9-b889-6a3c436ad9a0",
   "metadata": {},
   "outputs": [],
   "source": [
    "l=[1,2,3,4,5,6,7,8,9,10,11,12,13,14,15,16,17,18,19,20,21,22,23,24,25]"
   ]
  },
  {
   "cell_type": "code",
   "execution_count": 33,
   "id": "793f900e-a601-4dcd-b676-6e8d3916302e",
   "metadata": {},
   "outputs": [
    {
     "name": "stdout",
     "output_type": "stream",
     "text": [
      "3\n",
      "6\n",
      "9\n",
      "12\n",
      "15\n",
      "18\n",
      "21\n",
      "24\n",
      "other element is not divsible by 3 in given list l\n"
     ]
    }
   ],
   "source": [
    "for i in l:\n",
    "    if i%3==0:\n",
    "        print(i)\n",
    "else:\n",
    "    print(\"other element is not divsible by 3 in given list l\")"
   ]
  },
  {
   "cell_type": "markdown",
   "id": "b593058d-7303-4569-a6b3-12f18f11a131",
   "metadata": {},
   "source": [
    "\n",
    "\n",
    "Q7. What do you understand about mutable and immutable data types? Give examples for both showing\n",
    "this property."
   ]
  },
  {
   "cell_type": "code",
   "execution_count": null,
   "id": "cfb9c89d-4f9e-4e82-9d16-f4226eb734f4",
   "metadata": {},
   "outputs": [],
   "source": [
    "''' Mutalbe data type means, In  the given data type we can change the value perticular indexing \n",
    "like list and dictionary \n",
    "\n",
    "imutable means ,In give dta type we can not change the value perticular indexing like string , integer, float, tuple\n",
    "exaple is given below'''"
   ]
  },
  {
   "cell_type": "code",
   "execution_count": 36,
   "id": "9fecd0bb-7e31-49f1-9edd-c9e9e50ca06e",
   "metadata": {},
   "outputs": [],
   "source": [
    "s= \"amar mandale\" ##  string is imutable"
   ]
  },
  {
   "cell_type": "code",
   "execution_count": 37,
   "id": "943a53a4-626c-4a9a-9a06-223a0cf59ca3",
   "metadata": {},
   "outputs": [
    {
     "ename": "TypeError",
     "evalue": "'str' object does not support item assignment",
     "output_type": "error",
     "traceback": [
      "\u001b[0;31m---------------------------------------------------------------------------\u001b[0m",
      "\u001b[0;31mTypeError\u001b[0m                                 Traceback (most recent call last)",
      "Cell \u001b[0;32mIn[37], line 1\u001b[0m\n\u001b[0;32m----> 1\u001b[0m \u001b[43ms\u001b[49m\u001b[43m[\u001b[49m\u001b[38;5;241;43m1\u001b[39;49m\u001b[43m]\u001b[49m\u001b[38;5;241m=\u001b[39m\u001b[38;5;124m\"\u001b[39m\u001b[38;5;124mx\u001b[39m\u001b[38;5;124m\"\u001b[39m\n",
      "\u001b[0;31mTypeError\u001b[0m: 'str' object does not support item assignment"
     ]
    }
   ],
   "source": [
    "s[1]=\"x\""
   ]
  },
  {
   "cell_type": "code",
   "execution_count": 38,
   "id": "a30eb089-7f6a-4ac3-9cf8-96e503c92cfd",
   "metadata": {},
   "outputs": [],
   "source": [
    "l=[1,2,300,4] ## list is mutable "
   ]
  },
  {
   "cell_type": "code",
   "execution_count": 39,
   "id": "f0b15885-a077-4d5e-923d-b008e9fda608",
   "metadata": {},
   "outputs": [],
   "source": [
    "l[2]=3"
   ]
  },
  {
   "cell_type": "code",
   "execution_count": 40,
   "id": "3958ef1c-8a2b-4b12-8e7a-df7d83202e72",
   "metadata": {},
   "outputs": [
    {
     "data": {
      "text/plain": [
       "[1, 2, 3, 4]"
      ]
     },
     "execution_count": 40,
     "metadata": {},
     "output_type": "execute_result"
    }
   ],
   "source": [
    "l"
   ]
  },
  {
   "cell_type": "code",
   "execution_count": null,
   "id": "4fd135a0-0065-4a97-9fd5-9146d13a9ac8",
   "metadata": {},
   "outputs": [],
   "source": []
  }
 ],
 "metadata": {
  "kernelspec": {
   "display_name": "Python 3 (ipykernel)",
   "language": "python",
   "name": "python3"
  },
  "language_info": {
   "codemirror_mode": {
    "name": "ipython",
    "version": 3
   },
   "file_extension": ".py",
   "mimetype": "text/x-python",
   "name": "python",
   "nbconvert_exporter": "python",
   "pygments_lexer": "ipython3",
   "version": "3.10.8"
  }
 },
 "nbformat": 4,
 "nbformat_minor": 5
}
